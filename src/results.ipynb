{
 "cells": [
  {
   "cell_type": "code",
   "execution_count": 101,
   "outputs": [],
   "source": [
    "import os\n",
    "import itertools\n",
    "\n",
    "import constants\n",
    "from run_experiment import run_experiment"
   ],
   "metadata": {
    "collapsed": false,
    "pycharm": {
     "name": "#%%\n"
    }
   }
  },
  {
   "cell_type": "code",
   "execution_count": 102,
   "outputs": [],
   "source": [
    "# Run experiment if data file is not present\n",
    "experiment_result_path = \"../data/results.txt\"\n",
    "if not os.path.isfile(experiment_result_path):\n",
    "    run_experiment(path=experiment_result_path, verbose=False, num_cores=1)\n",
    "\n",
    "card_pairs = list(itertools.product(constants.CARDS, constants.CARDS))\n",
    "matchups = list(itertools.product(card_pairs, card_pairs))\n",
    "\n",
    "# matchup_results[(p1_card_1,p1_card_2)][(p2_card_1,p2_card_2)] = winner\n",
    "matchup_results = dict(zip([card_pair for card_pair in card_pairs], [dict(zip([card_pair for card_pair in card_pairs], [None for _ in card_pairs])) for _ in card_pairs]))\n",
    "with open(experiment_result_path, \"r\") as file:\n",
    "    for line in file:\n",
    "        matchup_data = line.split(\",\")\n",
    "        # Remove () and ' from the strings\n",
    "        for i, data in enumerate(matchup_data):\n",
    "            matchup_data[i] = data.replace(\"(\", \"\").replace(\"\\'\", \"\").replace(\")\",\"\").strip()\n",
    "        # Add all orientations of the matchup since run_experiment does not calculate the winner for equivalent matchups (ie duke,assassin vs captain,duke == assassin,duke vs duke,captain)\n",
    "        matchup_results[(matchup_data[0], matchup_data[1])][(matchup_data[2], matchup_data[3])] = matchup_data[4]\n",
    "        matchup_results[(matchup_data[1], matchup_data[0])][(matchup_data[2], matchup_data[3])] = matchup_data[4]\n",
    "        matchup_results[(matchup_data[0], matchup_data[1])][(matchup_data[3], matchup_data[2])] = matchup_data[4]\n",
    "        matchup_results[(matchup_data[1], matchup_data[0])][(matchup_data[3], matchup_data[2])] = matchup_data[4]\n",
    "\n",
    "for matchup in matchups:\n",
    "    assert matchup_results[matchup[0]][matchup[1]] is not None, f\"Error no result for matchup {matchup[0]} vs {matchup[1]}\""
   ],
   "metadata": {
    "collapsed": false,
    "pycharm": {
     "name": "#%%\n"
    }
   }
  },
  {
   "cell_type": "code",
   "execution_count": 103,
   "outputs": [
    {
     "name": "stdout",
     "output_type": "stream",
     "text": [
      "2\n"
     ]
    }
   ],
   "source": [
    "print(matchup_results[(constants.CAPTAIN, constants.DUKE)][(constants.DUKE, constants.ASSASSIN)])"
   ],
   "metadata": {
    "collapsed": false,
    "pycharm": {
     "name": "#%%\n"
    }
   }
  }
 ],
 "metadata": {
  "kernelspec": {
   "display_name": "Python 3",
   "language": "python",
   "name": "python3"
  },
  "language_info": {
   "codemirror_mode": {
    "name": "ipython",
    "version": 2
   },
   "file_extension": ".py",
   "mimetype": "text/x-python",
   "name": "python",
   "nbconvert_exporter": "python",
   "pygments_lexer": "ipython2",
   "version": "2.7.6"
  }
 },
 "nbformat": 4,
 "nbformat_minor": 0
}